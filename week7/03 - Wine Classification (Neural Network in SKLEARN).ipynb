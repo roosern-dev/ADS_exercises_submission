{
 "cells": [
  {
   "cell_type": "markdown",
   "metadata": {},
   "source": [
    "## Neural Network Introduction #2\n",
    "\n",
    "This exercise is adapted from https://www.springboard.com/blog/beginners-guide-neural-network-in-python-scikit-learn-0-18/"
   ]
  },
  {
   "cell_type": "markdown",
   "metadata": {},
   "source": [
    "Now you have successfully used SciKit Learn's MLP to work on the built-in Breast Cancer Data Set, let's try another one!\n",
    "\n",
    "Download the wine dataset from UCI Machine learning repository (http://archive.ics.uci.edu/ml/datasets/Wine/). Import the dataset into a pandas dataframe"
   ]
  },
  {
   "cell_type": "code",
   "execution_count": 1,
   "metadata": {},
   "outputs": [],
   "source": [
    "import pandas as pd\n",
    "wine = pd.read_csv('Data/Wine.csv')"
   ]
  },
  {
   "cell_type": "markdown",
   "metadata": {},
   "source": [
    "Check out the dataframe - what are the first few rows of data?"
   ]
  },
  {
   "cell_type": "code",
   "execution_count": 2,
   "metadata": {},
   "outputs": [
    {
     "data": {
      "text/html": [
       "<div>\n",
       "<style scoped>\n",
       "    .dataframe tbody tr th:only-of-type {\n",
       "        vertical-align: middle;\n",
       "    }\n",
       "\n",
       "    .dataframe tbody tr th {\n",
       "        vertical-align: top;\n",
       "    }\n",
       "\n",
       "    .dataframe thead th {\n",
       "        text-align: right;\n",
       "    }\n",
       "</style>\n",
       "<table border=\"1\" class=\"dataframe\">\n",
       "  <thead>\n",
       "    <tr style=\"text-align: right;\">\n",
       "      <th></th>\n",
       "      <th>Alcohol</th>\n",
       "      <th>Malic_Acid</th>\n",
       "      <th>Ash</th>\n",
       "      <th>Ash_Alcanity</th>\n",
       "      <th>Magnesium</th>\n",
       "      <th>Total_Phenols</th>\n",
       "      <th>Flavanoids</th>\n",
       "      <th>Nonflavanoid_Phenols</th>\n",
       "      <th>Proanthocyanins</th>\n",
       "      <th>Color_Intensity</th>\n",
       "      <th>Hue</th>\n",
       "      <th>OD280</th>\n",
       "      <th>Proline</th>\n",
       "      <th>Customer_Segment</th>\n",
       "    </tr>\n",
       "  </thead>\n",
       "  <tbody>\n",
       "    <tr>\n",
       "      <th>0</th>\n",
       "      <td>14.23</td>\n",
       "      <td>1.71</td>\n",
       "      <td>2.43</td>\n",
       "      <td>15.6</td>\n",
       "      <td>127</td>\n",
       "      <td>2.80</td>\n",
       "      <td>3.06</td>\n",
       "      <td>0.28</td>\n",
       "      <td>2.29</td>\n",
       "      <td>5.64</td>\n",
       "      <td>1.04</td>\n",
       "      <td>3.92</td>\n",
       "      <td>1065</td>\n",
       "      <td>1</td>\n",
       "    </tr>\n",
       "    <tr>\n",
       "      <th>1</th>\n",
       "      <td>13.20</td>\n",
       "      <td>1.78</td>\n",
       "      <td>2.14</td>\n",
       "      <td>11.2</td>\n",
       "      <td>100</td>\n",
       "      <td>2.65</td>\n",
       "      <td>2.76</td>\n",
       "      <td>0.26</td>\n",
       "      <td>1.28</td>\n",
       "      <td>4.38</td>\n",
       "      <td>1.05</td>\n",
       "      <td>3.40</td>\n",
       "      <td>1050</td>\n",
       "      <td>1</td>\n",
       "    </tr>\n",
       "    <tr>\n",
       "      <th>2</th>\n",
       "      <td>13.16</td>\n",
       "      <td>2.36</td>\n",
       "      <td>2.67</td>\n",
       "      <td>18.6</td>\n",
       "      <td>101</td>\n",
       "      <td>2.80</td>\n",
       "      <td>3.24</td>\n",
       "      <td>0.30</td>\n",
       "      <td>2.81</td>\n",
       "      <td>5.68</td>\n",
       "      <td>1.03</td>\n",
       "      <td>3.17</td>\n",
       "      <td>1185</td>\n",
       "      <td>1</td>\n",
       "    </tr>\n",
       "    <tr>\n",
       "      <th>3</th>\n",
       "      <td>14.37</td>\n",
       "      <td>1.95</td>\n",
       "      <td>2.50</td>\n",
       "      <td>16.8</td>\n",
       "      <td>113</td>\n",
       "      <td>3.85</td>\n",
       "      <td>3.49</td>\n",
       "      <td>0.24</td>\n",
       "      <td>2.18</td>\n",
       "      <td>7.80</td>\n",
       "      <td>0.86</td>\n",
       "      <td>3.45</td>\n",
       "      <td>1480</td>\n",
       "      <td>1</td>\n",
       "    </tr>\n",
       "    <tr>\n",
       "      <th>4</th>\n",
       "      <td>13.24</td>\n",
       "      <td>2.59</td>\n",
       "      <td>2.87</td>\n",
       "      <td>21.0</td>\n",
       "      <td>118</td>\n",
       "      <td>2.80</td>\n",
       "      <td>2.69</td>\n",
       "      <td>0.39</td>\n",
       "      <td>1.82</td>\n",
       "      <td>4.32</td>\n",
       "      <td>1.04</td>\n",
       "      <td>2.93</td>\n",
       "      <td>735</td>\n",
       "      <td>1</td>\n",
       "    </tr>\n",
       "  </tbody>\n",
       "</table>\n",
       "</div>"
      ],
      "text/plain": [
       "   Alcohol  Malic_Acid   Ash  Ash_Alcanity  Magnesium  Total_Phenols  \\\n",
       "0    14.23        1.71  2.43          15.6        127           2.80   \n",
       "1    13.20        1.78  2.14          11.2        100           2.65   \n",
       "2    13.16        2.36  2.67          18.6        101           2.80   \n",
       "3    14.37        1.95  2.50          16.8        113           3.85   \n",
       "4    13.24        2.59  2.87          21.0        118           2.80   \n",
       "\n",
       "   Flavanoids  Nonflavanoid_Phenols  Proanthocyanins  Color_Intensity   Hue  \\\n",
       "0        3.06                  0.28             2.29             5.64  1.04   \n",
       "1        2.76                  0.26             1.28             4.38  1.05   \n",
       "2        3.24                  0.30             2.81             5.68  1.03   \n",
       "3        3.49                  0.24             2.18             7.80  0.86   \n",
       "4        2.69                  0.39             1.82             4.32  1.04   \n",
       "\n",
       "   OD280  Proline  Customer_Segment  \n",
       "0   3.92     1065                 1  \n",
       "1   3.40     1050                 1  \n",
       "2   3.17     1185                 1  \n",
       "3   3.45     1480                 1  \n",
       "4   2.93      735                 1  "
      ]
     },
     "execution_count": 2,
     "metadata": {},
     "output_type": "execute_result"
    }
   ],
   "source": [
    "# find out the attributes in the dataset\n",
    "wine.head()"
   ]
  },
  {
   "cell_type": "code",
   "execution_count": 3,
   "metadata": {},
   "outputs": [
    {
     "name": "stdout",
     "output_type": "stream",
     "text": [
      "instances: 178, features: 14\n"
     ]
    }
   ],
   "source": [
    "# find out the total instances and number of features\n",
    "print(f\"instances: {wine.shape[0]}, features: {wine.shape[1]}\")"
   ]
  },
  {
   "cell_type": "code",
   "execution_count": 4,
   "metadata": {},
   "outputs": [
    {
     "data": {
      "text/html": [
       "<div>\n",
       "<style scoped>\n",
       "    .dataframe tbody tr th:only-of-type {\n",
       "        vertical-align: middle;\n",
       "    }\n",
       "\n",
       "    .dataframe tbody tr th {\n",
       "        vertical-align: top;\n",
       "    }\n",
       "\n",
       "    .dataframe thead th {\n",
       "        text-align: right;\n",
       "    }\n",
       "</style>\n",
       "<table border=\"1\" class=\"dataframe\">\n",
       "  <thead>\n",
       "    <tr style=\"text-align: right;\">\n",
       "      <th></th>\n",
       "      <th>Alcohol</th>\n",
       "      <th>Malic_Acid</th>\n",
       "      <th>Ash</th>\n",
       "      <th>Ash_Alcanity</th>\n",
       "      <th>Magnesium</th>\n",
       "      <th>Total_Phenols</th>\n",
       "      <th>Flavanoids</th>\n",
       "      <th>Nonflavanoid_Phenols</th>\n",
       "      <th>Proanthocyanins</th>\n",
       "      <th>Color_Intensity</th>\n",
       "      <th>Hue</th>\n",
       "      <th>OD280</th>\n",
       "      <th>Proline</th>\n",
       "      <th>Customer_Segment</th>\n",
       "    </tr>\n",
       "  </thead>\n",
       "  <tbody>\n",
       "    <tr>\n",
       "      <th>count</th>\n",
       "      <td>178.000000</td>\n",
       "      <td>178.000000</td>\n",
       "      <td>178.000000</td>\n",
       "      <td>178.000000</td>\n",
       "      <td>178.000000</td>\n",
       "      <td>178.000000</td>\n",
       "      <td>178.000000</td>\n",
       "      <td>178.000000</td>\n",
       "      <td>178.000000</td>\n",
       "      <td>178.000000</td>\n",
       "      <td>178.000000</td>\n",
       "      <td>178.000000</td>\n",
       "      <td>178.000000</td>\n",
       "      <td>178.000000</td>\n",
       "    </tr>\n",
       "    <tr>\n",
       "      <th>mean</th>\n",
       "      <td>13.000618</td>\n",
       "      <td>2.336348</td>\n",
       "      <td>2.366517</td>\n",
       "      <td>19.494944</td>\n",
       "      <td>99.741573</td>\n",
       "      <td>2.295112</td>\n",
       "      <td>2.029270</td>\n",
       "      <td>0.361854</td>\n",
       "      <td>1.590899</td>\n",
       "      <td>5.058090</td>\n",
       "      <td>0.957449</td>\n",
       "      <td>2.611685</td>\n",
       "      <td>746.893258</td>\n",
       "      <td>1.938202</td>\n",
       "    </tr>\n",
       "    <tr>\n",
       "      <th>std</th>\n",
       "      <td>0.811827</td>\n",
       "      <td>1.117146</td>\n",
       "      <td>0.274344</td>\n",
       "      <td>3.339564</td>\n",
       "      <td>14.282484</td>\n",
       "      <td>0.625851</td>\n",
       "      <td>0.998859</td>\n",
       "      <td>0.124453</td>\n",
       "      <td>0.572359</td>\n",
       "      <td>2.318286</td>\n",
       "      <td>0.228572</td>\n",
       "      <td>0.709990</td>\n",
       "      <td>314.907474</td>\n",
       "      <td>0.775035</td>\n",
       "    </tr>\n",
       "    <tr>\n",
       "      <th>min</th>\n",
       "      <td>11.030000</td>\n",
       "      <td>0.740000</td>\n",
       "      <td>1.360000</td>\n",
       "      <td>10.600000</td>\n",
       "      <td>70.000000</td>\n",
       "      <td>0.980000</td>\n",
       "      <td>0.340000</td>\n",
       "      <td>0.130000</td>\n",
       "      <td>0.410000</td>\n",
       "      <td>1.280000</td>\n",
       "      <td>0.480000</td>\n",
       "      <td>1.270000</td>\n",
       "      <td>278.000000</td>\n",
       "      <td>1.000000</td>\n",
       "    </tr>\n",
       "    <tr>\n",
       "      <th>25%</th>\n",
       "      <td>12.362500</td>\n",
       "      <td>1.602500</td>\n",
       "      <td>2.210000</td>\n",
       "      <td>17.200000</td>\n",
       "      <td>88.000000</td>\n",
       "      <td>1.742500</td>\n",
       "      <td>1.205000</td>\n",
       "      <td>0.270000</td>\n",
       "      <td>1.250000</td>\n",
       "      <td>3.220000</td>\n",
       "      <td>0.782500</td>\n",
       "      <td>1.937500</td>\n",
       "      <td>500.500000</td>\n",
       "      <td>1.000000</td>\n",
       "    </tr>\n",
       "    <tr>\n",
       "      <th>50%</th>\n",
       "      <td>13.050000</td>\n",
       "      <td>1.865000</td>\n",
       "      <td>2.360000</td>\n",
       "      <td>19.500000</td>\n",
       "      <td>98.000000</td>\n",
       "      <td>2.355000</td>\n",
       "      <td>2.135000</td>\n",
       "      <td>0.340000</td>\n",
       "      <td>1.555000</td>\n",
       "      <td>4.690000</td>\n",
       "      <td>0.965000</td>\n",
       "      <td>2.780000</td>\n",
       "      <td>673.500000</td>\n",
       "      <td>2.000000</td>\n",
       "    </tr>\n",
       "    <tr>\n",
       "      <th>75%</th>\n",
       "      <td>13.677500</td>\n",
       "      <td>3.082500</td>\n",
       "      <td>2.557500</td>\n",
       "      <td>21.500000</td>\n",
       "      <td>107.000000</td>\n",
       "      <td>2.800000</td>\n",
       "      <td>2.875000</td>\n",
       "      <td>0.437500</td>\n",
       "      <td>1.950000</td>\n",
       "      <td>6.200000</td>\n",
       "      <td>1.120000</td>\n",
       "      <td>3.170000</td>\n",
       "      <td>985.000000</td>\n",
       "      <td>3.000000</td>\n",
       "    </tr>\n",
       "    <tr>\n",
       "      <th>max</th>\n",
       "      <td>14.830000</td>\n",
       "      <td>5.800000</td>\n",
       "      <td>3.230000</td>\n",
       "      <td>30.000000</td>\n",
       "      <td>162.000000</td>\n",
       "      <td>3.880000</td>\n",
       "      <td>5.080000</td>\n",
       "      <td>0.660000</td>\n",
       "      <td>3.580000</td>\n",
       "      <td>13.000000</td>\n",
       "      <td>1.710000</td>\n",
       "      <td>4.000000</td>\n",
       "      <td>1680.000000</td>\n",
       "      <td>3.000000</td>\n",
       "    </tr>\n",
       "  </tbody>\n",
       "</table>\n",
       "</div>"
      ],
      "text/plain": [
       "          Alcohol  Malic_Acid         Ash  Ash_Alcanity   Magnesium  \\\n",
       "count  178.000000  178.000000  178.000000    178.000000  178.000000   \n",
       "mean    13.000618    2.336348    2.366517     19.494944   99.741573   \n",
       "std      0.811827    1.117146    0.274344      3.339564   14.282484   \n",
       "min     11.030000    0.740000    1.360000     10.600000   70.000000   \n",
       "25%     12.362500    1.602500    2.210000     17.200000   88.000000   \n",
       "50%     13.050000    1.865000    2.360000     19.500000   98.000000   \n",
       "75%     13.677500    3.082500    2.557500     21.500000  107.000000   \n",
       "max     14.830000    5.800000    3.230000     30.000000  162.000000   \n",
       "\n",
       "       Total_Phenols  Flavanoids  Nonflavanoid_Phenols  Proanthocyanins  \\\n",
       "count     178.000000  178.000000            178.000000       178.000000   \n",
       "mean        2.295112    2.029270              0.361854         1.590899   \n",
       "std         0.625851    0.998859              0.124453         0.572359   \n",
       "min         0.980000    0.340000              0.130000         0.410000   \n",
       "25%         1.742500    1.205000              0.270000         1.250000   \n",
       "50%         2.355000    2.135000              0.340000         1.555000   \n",
       "75%         2.800000    2.875000              0.437500         1.950000   \n",
       "max         3.880000    5.080000              0.660000         3.580000   \n",
       "\n",
       "       Color_Intensity         Hue       OD280      Proline  Customer_Segment  \n",
       "count       178.000000  178.000000  178.000000   178.000000        178.000000  \n",
       "mean          5.058090    0.957449    2.611685   746.893258          1.938202  \n",
       "std           2.318286    0.228572    0.709990   314.907474          0.775035  \n",
       "min           1.280000    0.480000    1.270000   278.000000          1.000000  \n",
       "25%           3.220000    0.782500    1.937500   500.500000          1.000000  \n",
       "50%           4.690000    0.965000    2.780000   673.500000          2.000000  \n",
       "75%           6.200000    1.120000    3.170000   985.000000          3.000000  \n",
       "max          13.000000    1.710000    4.000000  1680.000000          3.000000  "
      ]
     },
     "execution_count": 4,
     "metadata": {},
     "output_type": "execute_result"
    }
   ],
   "source": [
    "# use describe to find out more about the data\n",
    "wine.describe()"
   ]
  },
  {
   "cell_type": "markdown",
   "metadata": {},
   "source": [
    "**Q:** what can you say about this dataset?\n",
    "\n",
    "\n",
    "->There is a wide range between the numerical values for each column of the dataset\n",
    "\n",
    "\n",
    "Now, set up the data (x) and labels (y)\n"
   ]
  },
  {
   "cell_type": "code",
   "execution_count": 5,
   "metadata": {},
   "outputs": [],
   "source": [
    "x=wine.drop('Customer_Segment', axis=1)\n",
    "y=wine.pop('Customer_Segment')"
   ]
  },
  {
   "cell_type": "markdown",
   "metadata": {},
   "source": [
    "#### Train Test Split\n",
    " \n",
    "Let's split our data into training and testing sets, this is done easily with SciKit Learn's train_test_split function from model_selection:"
   ]
  },
  {
   "cell_type": "code",
   "execution_count": 10,
   "metadata": {},
   "outputs": [],
   "source": [
    "from sklearn.model_selection import train_test_split\n",
    "x_train, x_test, y_train, y_test = train_test_split(x, y, test_size=0.2)"
   ]
  },
  {
   "cell_type": "markdown",
   "metadata": {},
   "source": [
    "#### Data Preprocessing\n",
    " \n",
    "The neural network may have difficulty converging before the maximum number of iterations allowed if the data is not normalized. Multi-layer Perceptron is sensitive to feature scaling, so it is highly recommended to scale your data. Note that you must apply the same scaling to the test set for meaningful results. There are a lot of different methods for normalization of data, we will use the built-in StandardScaler for standardization."
   ]
  },
  {
   "cell_type": "code",
   "execution_count": 11,
   "metadata": {},
   "outputs": [
    {
     "data": {
      "text/plain": [
       "StandardScaler()"
      ]
     },
     "execution_count": 11,
     "metadata": {},
     "output_type": "execute_result"
    }
   ],
   "source": [
    "# Import the StandardScalar library\n",
    "from sklearn.preprocessing import StandardScaler\n",
    "\n",
    "# Fit only to the training data\n",
    "scaler = StandardScaler()\n",
    "scaler.fit(x_train)\n",
    "\n"
   ]
  },
  {
   "cell_type": "code",
   "execution_count": 12,
   "metadata": {},
   "outputs": [],
   "source": [
    "# Now apply the transformations to the data:\n",
    "x_train_scaled = scaler.transform(x_train)\n",
    "x_test_scaled = scaler.transform(x_test)"
   ]
  },
  {
   "cell_type": "markdown",
   "metadata": {},
   "source": [
    "#### Training the model\n",
    " \n",
    "Now it is time to train our model. SciKit Learn makes this incredibly easy, by using estimator objects. In this case we will import our estimator (the Multi-Layer Perceptron Classifier model) from the neural_network library of SciKit-Learn!"
   ]
  },
  {
   "cell_type": "code",
   "execution_count": 13,
   "metadata": {},
   "outputs": [],
   "source": [
    "from sklearn.neural_network import MLPClassifier"
   ]
  },
  {
   "cell_type": "markdown",
   "metadata": {},
   "source": [
    "Next we create an instance of the model, there are a lot of parameters you can choose to define and customize here, we will only define the hidden_layer_sizes. For this parameter you pass in a tuple consisting of the number of neurons you want at each layer, where the nth entry in the tuple represents the number of neurons in the nth layer of the MLP model. There are many ways to choose these numbers, but for simplicity we will choose 3 layers with the same number of neurons as there are features in our data set:"
   ]
  },
  {
   "cell_type": "code",
   "execution_count": 14,
   "metadata": {},
   "outputs": [],
   "source": [
    "# create a Multilayerperceptron classifier and call it mlp\n",
    "num_features = wine.shape[1]-1\n",
    "mlp =MLPClassifier((num_features, num_features, num_features))"
   ]
  },
  {
   "cell_type": "markdown",
   "metadata": {},
   "source": [
    "Now that the model has been made we can fit the training data to our model, remember that this data has already been processed and scaled:"
   ]
  },
  {
   "cell_type": "code",
   "execution_count": 15,
   "metadata": {},
   "outputs": [
    {
     "name": "stderr",
     "output_type": "stream",
     "text": [
      "C:\\Users\\ryeoh\\Anaconda3\\envs\\forwardSchool\\lib\\site-packages\\sklearn\\neural_network\\_multilayer_perceptron.py:692: ConvergenceWarning: Stochastic Optimizer: Maximum iterations (200) reached and the optimization hasn't converged yet.\n",
      "  warnings.warn(\n"
     ]
    },
    {
     "data": {
      "text/plain": [
       "MLPClassifier(hidden_layer_sizes=(12, 12, 12))"
      ]
     },
     "execution_count": 15,
     "metadata": {},
     "output_type": "execute_result"
    }
   ],
   "source": [
    "mlp.fit(x_train_scaled, y_train)"
   ]
  },
  {
   "cell_type": "markdown",
   "metadata": {},
   "source": [
    "**Q:** What do you see in the output? What does it tell you?\n",
    "\n",
    "->The model can still be trained for more epochs until convergence"
   ]
  },
  {
   "cell_type": "markdown",
   "metadata": {},
   "source": [
    "#### Predictions and Evaluation\n",
    " \n",
    "Now that we have a model it is time to use it to get predictions! We can do this simply with the predict() method off of our fitted model:"
   ]
  },
  {
   "cell_type": "code",
   "execution_count": 16,
   "metadata": {},
   "outputs": [],
   "source": [
    "predictions = mlp.predict(x_test_scaled)"
   ]
  },
  {
   "cell_type": "markdown",
   "metadata": {},
   "source": [
    "Now we can use SciKit-Learn's built in metrics such as a classification report and confusion matrix to evaluate how well our model performed:"
   ]
  },
  {
   "cell_type": "code",
   "execution_count": 17,
   "metadata": {},
   "outputs": [
    {
     "name": "stdout",
     "output_type": "stream",
     "text": [
      "[[18  0  0]\n",
      " [ 0 12  1]\n",
      " [ 0  0  5]]\n",
      "              precision    recall  f1-score   support\n",
      "\n",
      "           1       1.00      1.00      1.00        18\n",
      "           2       1.00      0.92      0.96        13\n",
      "           3       0.83      1.00      0.91         5\n",
      "\n",
      "    accuracy                           0.97        36\n",
      "   macro avg       0.94      0.97      0.96        36\n",
      "weighted avg       0.98      0.97      0.97        36\n",
      "\n"
     ]
    }
   ],
   "source": [
    "from sklearn.metrics import classification_report, confusion_matrix\n",
    "conf = confusion_matrix(y_test, predictions)\n",
    "print(conf)\n",
    "\n",
    "report = classification_report(y_test, predictions)\n",
    "print(report)"
   ]
  },
  {
   "cell_type": "markdown",
   "metadata": {},
   "source": [
    "**Q:** what conclusion can you make from the confusion matrix?\n",
    "\n",
    "-> the model only has one misclassification"
   ]
  },
  {
   "cell_type": "markdown",
   "metadata": {},
   "source": [
    "#### Weights and biases\n",
    "\n",
    "The downside however to using a Multi-Layer Preceptron model is how difficult it is to interpret the model itself. The weights and biases won't be easily interpretable in relation to which features are important to the model itself.\n",
    "\n",
    "To extract the MLP weights and biases after training your model, you use its public attributes coefs_ and intercepts_."
   ]
  },
  {
   "cell_type": "code",
   "execution_count": 18,
   "metadata": {},
   "outputs": [
    {
     "name": "stdout",
     "output_type": "stream",
     "text": [
      "[array([[-0.11899989, -0.10051119, -0.6586758 , -0.0861081 , -0.09125878,\n",
      "        -0.63206898,  0.592779  ,  0.46222283, -0.41933879, -0.21193479,\n",
      "        -0.24083693, -0.06848061],\n",
      "       [ 0.324019  ,  0.49072975, -0.39842837,  0.44120124,  0.02623835,\n",
      "        -0.04000219,  0.14864108,  0.01034742, -0.12172321,  0.14281721,\n",
      "        -0.42309021,  0.20645394],\n",
      "       [ 0.59625744, -0.21787988, -0.54975256,  0.09575601, -0.34907501,\n",
      "         0.47233313,  0.25595255,  0.14460598, -0.68596092, -0.59784476,\n",
      "        -0.39507021, -0.19454123],\n",
      "       [-0.00223621,  0.47724533,  0.06525006,  0.45569708, -0.20049379,\n",
      "         0.34750097, -0.43974278, -0.08134357,  0.38261022,  0.54786787,\n",
      "        -0.4761658 , -0.11803752],\n",
      "       [-0.13278739,  0.35308062, -0.42159088,  0.29592029,  0.56559421,\n",
      "         0.32571725,  0.25018315, -0.20014582, -0.03038263, -0.55543081,\n",
      "         0.31025668, -0.0112089 ],\n",
      "       [-0.31834105,  0.15862544, -0.09993796,  0.0869728 ,  0.27263663,\n",
      "         0.24951896,  0.53600887, -0.17394053,  0.07656608,  0.0429004 ,\n",
      "         0.18171116, -0.23603089],\n",
      "       [-0.0447719 , -0.47116961,  0.51886002,  0.01995783, -0.57821816,\n",
      "         0.44361852,  0.07140124,  0.48157152,  0.2263897 ,  0.2526204 ,\n",
      "         0.4208906 ,  0.24591156],\n",
      "       [ 0.03764817, -0.32793282,  0.50768496, -0.0647939 ,  0.21439415,\n",
      "        -0.13273379, -0.31237796, -0.39549915, -0.34061659, -0.06443454,\n",
      "        -0.393369  , -0.16942824],\n",
      "       [-0.36916689, -0.35375124, -0.05399976, -0.36522907, -0.54321145,\n",
      "        -0.11759288, -0.17638761,  0.21348241,  0.07061212,  0.2143217 ,\n",
      "        -0.1087261 ,  0.02041389],\n",
      "       [ 0.5962798 ,  0.55018343,  0.3004401 ,  0.11475229,  0.45790113,\n",
      "        -0.02860213, -0.01587587, -0.08283793, -0.67168399, -0.14256005,\n",
      "        -0.06287531, -0.12646207],\n",
      "       [-0.20808443,  0.08109602,  0.34435363, -0.16077547, -0.29331585,\n",
      "         0.35784026, -0.04200663, -0.15578165,  0.18565567, -0.31752718,\n",
      "         0.10218487,  0.25460313],\n",
      "       [-0.02997283,  0.03000134, -0.24019186,  0.42320135, -0.16877433,\n",
      "         0.24949911,  0.55323735,  0.26223352,  0.48471801,  0.53948647,\n",
      "        -0.10752392,  0.18582367],\n",
      "       [ 0.15701288, -0.47005182, -0.0428935 ,  0.30952954, -0.13283278,\n",
      "        -0.30628478,  0.35859536,  0.42826056,  0.0189482 , -0.34893428,\n",
      "        -0.45544138,  0.40373909]]), array([[-0.21904461,  0.44192095,  0.2414326 , -0.1035626 ,  0.40226852,\n",
      "         0.25313244, -0.37190314,  0.45293377,  0.4103684 , -0.36471418,\n",
      "         0.15840276, -0.25586581],\n",
      "       [-0.06792721, -0.25238824,  0.07247853,  0.55808358,  0.26782216,\n",
      "         0.49896767,  0.20554701, -0.08926664,  0.06191927, -0.08134991,\n",
      "        -0.4451745 ,  0.08221664],\n",
      "       [ 0.45491337, -0.17385166,  0.21235987,  0.13842041, -0.38519294,\n",
      "         0.23692247,  0.4177438 , -0.07291419, -0.43618299,  0.29475994,\n",
      "        -0.00148595,  0.24988869],\n",
      "       [-0.11982754, -0.02451095,  0.10436192,  0.36434675, -0.30214555,\n",
      "         0.36285511,  0.35726547,  0.57448867, -0.2596036 , -0.50657251,\n",
      "        -0.07062355,  0.27020018],\n",
      "       [ 0.17902136, -0.23166941,  0.03266141,  0.16080767,  0.55467044,\n",
      "        -0.010399  , -0.09868095,  0.40312175, -0.11742038, -0.0362831 ,\n",
      "        -0.34292359, -0.00319279],\n",
      "       [ 0.31949596, -0.54504741,  0.03792797, -0.26732627, -0.29491186,\n",
      "         0.40097701,  0.42608866, -0.09693686, -0.29915346,  0.05433135,\n",
      "         0.00193369,  0.12937692],\n",
      "       [-0.24142949,  0.4408025 , -0.18060354, -0.18420112,  0.07955047,\n",
      "         0.38180932,  0.25389783, -0.60517824,  0.47915838, -0.40258906,\n",
      "         0.66874761, -0.24651239],\n",
      "       [-0.07152955,  0.44640941, -0.2048102 , -0.13825309, -0.26683053,\n",
      "         0.11562135,  0.52860269,  0.13580989,  0.10614269,  0.44710065,\n",
      "         0.05216303,  0.37558577],\n",
      "       [ 0.14270679,  0.12109793,  0.44848753,  0.05528407, -0.62293252,\n",
      "        -0.1228292 , -0.39090382,  0.07645531,  0.28595799, -0.0449945 ,\n",
      "        -0.09746606,  0.22231879],\n",
      "       [ 0.60692998, -0.35568985,  0.25471999,  0.04644601,  0.28287363,\n",
      "        -0.34920139,  0.33416671, -0.52977745, -0.2756874 , -0.02709865,\n",
      "        -0.05345384,  0.14879231],\n",
      "       [ 0.16003802,  0.26069205,  0.22598321,  0.35756638, -0.12848538,\n",
      "         0.07571931,  0.36850927, -0.37860006, -0.20701584, -0.41558077,\n",
      "        -0.0445957 ,  0.36312361],\n",
      "       [-0.38413468,  0.22164241,  0.20572972, -0.11519131,  0.39739211,\n",
      "         0.54815005,  0.11509609, -0.44868659,  0.0075615 , -0.37306395,\n",
      "         0.23481323,  0.39343372]]), array([[-2.95972861e-01, -1.65262195e-01,  1.50478822e-01,\n",
      "        -2.00869186e-01,  7.04171408e-01, -3.16351068e-02,\n",
      "         1.51274280e-01, -3.96654532e-01, -6.16750814e-01,\n",
      "        -5.12794293e-01, -8.08432862e-02, -2.26843910e-01],\n",
      "       [ 4.31609378e-01,  1.95024605e-01,  2.99872989e-01,\n",
      "        -1.71504304e-01,  4.00926578e-02, -1.09693941e-03,\n",
      "        -5.74428328e-02,  4.17029690e-01,  2.69805884e-01,\n",
      "        -3.40781225e-01,  3.06031832e-01,  1.68638741e-01],\n",
      "       [-4.38855304e-01,  7.82955535e-03,  4.10350319e-01,\n",
      "         1.31439276e-02,  4.17423391e-01, -3.32075908e-01,\n",
      "        -5.29846036e-01,  1.59869092e-01,  3.65646653e-01,\n",
      "        -4.57337186e-01, -1.65292087e-01, -7.70226538e-02],\n",
      "       [-7.58309050e-02,  4.13360048e-01, -3.08471648e-01,\n",
      "         4.34072737e-02,  5.05052010e-02,  7.95397366e-03,\n",
      "        -1.63445465e-01, -5.48633332e-01, -1.52459504e-01,\n",
      "        -1.31825515e-01, -5.85821213e-01,  9.46570361e-04],\n",
      "       [-1.77080060e-01,  6.14439784e-01, -1.39679533e-01,\n",
      "        -3.29123704e-02, -1.98661792e-01, -8.65273936e-02,\n",
      "        -2.85843368e-01, -3.68735894e-01,  2.72089212e-01,\n",
      "        -5.21606728e-01,  1.99066094e-01,  8.00931430e-03],\n",
      "       [ 4.48294178e-01,  2.68213043e-01,  1.66139392e-01,\n",
      "        -2.33591250e-01,  1.89249561e-01, -2.08828991e-01,\n",
      "        -4.04835181e-01,  2.90458745e-01, -2.87065855e-01,\n",
      "        -2.09679397e-01, -4.38132271e-01, -2.48709946e-01],\n",
      "       [ 4.37081642e-01, -2.00125991e-02, -1.40156521e-02,\n",
      "        -6.78375018e-02,  5.98016449e-01, -5.94572480e-04,\n",
      "         3.38707446e-01,  2.65584322e-01,  2.10021916e-01,\n",
      "        -1.05000810e-02, -5.61604664e-02,  7.91547998e-02],\n",
      "       [-2.29029529e-01,  3.96026493e-01, -1.38753265e-02,\n",
      "         4.47684080e-03, -1.86242257e-01,  7.00905552e-03,\n",
      "        -5.09623771e-01, -4.05696204e-01,  2.06932403e-01,\n",
      "         1.21736193e-01,  1.57466573e-01, -2.61603916e-01],\n",
      "       [-2.29636387e-02,  2.40878822e-01, -5.34577535e-01,\n",
      "        -3.30714343e-01, -4.45288067e-01, -1.43167313e-01,\n",
      "         3.25063304e-01,  4.91168844e-01,  3.81671119e-01,\n",
      "        -2.30309231e-01,  1.76735311e-01, -8.52279644e-02],\n",
      "       [ 1.54847265e-01, -3.02549475e-01, -2.61233930e-01,\n",
      "         1.15148706e-02, -1.93274039e-01,  6.70992836e-04,\n",
      "        -1.58940044e-01, -1.61705259e-01,  2.28037233e-01,\n",
      "        -3.16412386e-01,  2.31713493e-01, -1.64976162e-01],\n",
      "       [ 4.75540881e-01,  1.99000093e-01, -2.94090732e-01,\n",
      "        -2.43939027e-02,  9.99199483e-02, -2.91285123e-02,\n",
      "        -1.11326054e-01,  6.13226904e-01,  4.53757360e-01,\n",
      "         1.74985674e-01,  6.70708274e-01,  2.36352752e-01],\n",
      "       [ 1.75985456e-01, -5.89960005e-01,  5.63680818e-01,\n",
      "        -1.97411801e-01,  2.24832939e-01, -1.22277002e-01,\n",
      "        -5.52790431e-01,  2.00407447e-01,  3.17508357e-01,\n",
      "         4.15468513e-01, -2.92210919e-01, -4.73888794e-01]]), array([[ 0.52547628,  0.12380314, -0.61082631],\n",
      "       [-0.66710394, -0.47360924,  0.49670782],\n",
      "       [-0.44553139,  0.54542106,  0.20380927],\n",
      "       [-0.19110974, -0.36283651, -0.09590181],\n",
      "       [ 0.17240688,  0.65425195, -0.4427144 ],\n",
      "       [-0.00101284,  0.30608503, -0.19595475],\n",
      "       [ 0.20487623,  0.11810791,  0.09058973],\n",
      "       [ 0.53386724, -0.23653975, -0.36391256],\n",
      "       [ 0.54784081, -0.21119854,  0.38163454],\n",
      "       [ 0.30251361, -0.05103693,  0.09866998],\n",
      "       [ 0.20104402,  0.08770439, -0.01089492],\n",
      "       [-0.365193  , -0.02931656,  0.08395987]])]\n"
     ]
    }
   ],
   "source": [
    "# Print the coefficient values and interpret it\n",
    "print(mlp.coefs_)"
   ]
  },
  {
   "cell_type": "code",
   "execution_count": 19,
   "metadata": {},
   "outputs": [
    {
     "name": "stdout",
     "output_type": "stream",
     "text": [
      "[array([ 0.47952602, -0.04667191,  0.05994098, -0.3633979 ,  0.04697799,\n",
      "       -0.22220919, -0.19840754,  0.08389801,  0.63757653,  0.19203933,\n",
      "       -0.02502455, -0.3309126 ]), array([ 0.22563477,  0.44327064, -0.38247614, -0.0387317 , -0.10531326,\n",
      "        0.13991936,  0.07202799,  0.56476194, -0.12195462, -0.36327217,\n",
      "       -0.01798523,  0.215787  ]), array([-0.17152899,  0.54983159,  0.02882157,  0.0618372 ,  0.45938   ,\n",
      "       -0.36954345,  0.3366888 ,  0.38889653,  0.23664973,  0.24668464,\n",
      "        0.2384219 , -0.49271272]), array([ 0.11313292, -0.31373345,  0.01704434])]\n"
     ]
    }
   ],
   "source": [
    "# Print the intercepts values and interpret it\n",
    "print(mlp.intercepts_)"
   ]
  },
  {
   "cell_type": "markdown",
   "metadata": {},
   "source": [
    "**Q:** What do you understand from the two values?\n",
    "\n",
    "-> there is no explainablility"
   ]
  },
  {
   "cell_type": "markdown",
   "metadata": {},
   "source": [
    "#### Additional optional tasks...\n",
    "\n",
    "select a few known supervised techniques and compare their performance. Use 10 fold cross validation"
   ]
  },
  {
   "cell_type": "code",
   "execution_count": 20,
   "metadata": {},
   "outputs": [],
   "source": [
    "from sklearn.model_selection import StratifiedKFold, cross_val_score\n",
    "from sklearn.tree import DecisionTreeClassifier\n",
    "from sklearn.ensemble import RandomForestClassifier\n",
    "from sklearn.ensemble import GradientBoostingClassifier\n",
    "from sklearn.metrics import confusion_matrix, classification_report\n",
    "\n",
    "seed = 1234\n",
    "\n",
    "def train_and_test_model(x_train, y_train, x_test, y_test, model):\n",
    "    cv = StratifiedKFold(10, shuffle=True, random_state=seed)\n",
    "    score = cross_val_score(model, x_train, y_train, cv=cv)\n",
    "    print(score)\n",
    "\n",
    "    model.fit(x_train, y_train)\n",
    "    predictions = model.predict(x_test)\n",
    "    print(confusion_matrix(y_test, predictions))\n",
    "    print(classification_report(y_test, predictions))"
   ]
  },
  {
   "cell_type": "markdown",
   "metadata": {},
   "source": [
    "### Decision trees\n"
   ]
  },
  {
   "cell_type": "code",
   "execution_count": 21,
   "metadata": {},
   "outputs": [
    {
     "name": "stdout",
     "output_type": "stream",
     "text": [
      "[0.93333333 1.         0.85714286 0.92857143 0.92857143 0.92857143\n",
      " 0.92857143 0.92857143 0.92857143 0.92857143]\n",
      "[[18  0  0]\n",
      " [ 0 13  0]\n",
      " [ 0  0  5]]\n",
      "              precision    recall  f1-score   support\n",
      "\n",
      "           1       1.00      1.00      1.00        18\n",
      "           2       1.00      1.00      1.00        13\n",
      "           3       1.00      1.00      1.00         5\n",
      "\n",
      "    accuracy                           1.00        36\n",
      "   macro avg       1.00      1.00      1.00        36\n",
      "weighted avg       1.00      1.00      1.00        36\n",
      "\n"
     ]
    }
   ],
   "source": [
    "dt = DecisionTreeClassifier()\n",
    "train_and_test_model(x_train_scaled, y_train, x_test_scaled, y_test, dt)"
   ]
  },
  {
   "cell_type": "markdown",
   "metadata": {},
   "source": [
    "### Random forest"
   ]
  },
  {
   "cell_type": "code",
   "execution_count": 22,
   "metadata": {},
   "outputs": [
    {
     "name": "stdout",
     "output_type": "stream",
     "text": [
      "[1.         1.         0.92857143 0.92857143 1.         1.\n",
      " 1.         1.         0.92857143 0.92857143]\n",
      "[[18  0  0]\n",
      " [ 0 13  0]\n",
      " [ 0  0  5]]\n",
      "              precision    recall  f1-score   support\n",
      "\n",
      "           1       1.00      1.00      1.00        18\n",
      "           2       1.00      1.00      1.00        13\n",
      "           3       1.00      1.00      1.00         5\n",
      "\n",
      "    accuracy                           1.00        36\n",
      "   macro avg       1.00      1.00      1.00        36\n",
      "weighted avg       1.00      1.00      1.00        36\n",
      "\n"
     ]
    }
   ],
   "source": [
    "rf = RandomForestClassifier()\n",
    "train_and_test_model(x_train_scaled, y_train, x_test_scaled, y_test, rf)"
   ]
  },
  {
   "cell_type": "markdown",
   "metadata": {},
   "source": [
    "### Gradient boosting"
   ]
  },
  {
   "cell_type": "code",
   "execution_count": 23,
   "metadata": {},
   "outputs": [
    {
     "name": "stdout",
     "output_type": "stream",
     "text": [
      "[1.         1.         0.85714286 0.92857143 1.         0.78571429\n",
      " 0.92857143 0.92857143 0.92857143 0.85714286]\n",
      "[[18  0  0]\n",
      " [ 1 12  0]\n",
      " [ 0  0  5]]\n",
      "              precision    recall  f1-score   support\n",
      "\n",
      "           1       0.95      1.00      0.97        18\n",
      "           2       1.00      0.92      0.96        13\n",
      "           3       1.00      1.00      1.00         5\n",
      "\n",
      "    accuracy                           0.97        36\n",
      "   macro avg       0.98      0.97      0.98        36\n",
      "weighted avg       0.97      0.97      0.97        36\n",
      "\n"
     ]
    }
   ],
   "source": [
    "gbt = GradientBoostingClassifier()\n",
    "train_and_test_model(x_train_scaled, y_train, x_test_scaled, y_test, gbt)"
   ]
  }
 ],
 "metadata": {
  "kernelspec": {
   "display_name": "Python 3",
   "language": "python",
   "name": "python3"
  },
  "language_info": {
   "codemirror_mode": {
    "name": "ipython",
    "version": 3
   },
   "file_extension": ".py",
   "mimetype": "text/x-python",
   "name": "python",
   "nbconvert_exporter": "python",
   "pygments_lexer": "ipython3",
   "version": "3.9.7"
  }
 },
 "nbformat": 4,
 "nbformat_minor": 4
}
